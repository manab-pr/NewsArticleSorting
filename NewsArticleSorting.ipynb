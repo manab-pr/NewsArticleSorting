{
 "cells": [
  {
   "cell_type": "code",
   "execution_count": 1,
   "id": "673b5558",
   "metadata": {},
   "outputs": [],
   "source": [
    "import pandas as pd"
   ]
  },
  {
   "cell_type": "code",
   "execution_count": 5,
   "id": "591bee50",
   "metadata": {},
   "outputs": [],
   "source": [
    "bbc=pd.read_csv(\"./BBC News Train.csv\")"
   ]
  },
  {
   "cell_type": "code",
   "execution_count": 6,
   "id": "142a9a22",
   "metadata": {},
   "outputs": [
    {
     "data": {
      "text/html": [
       "<div>\n",
       "<style scoped>\n",
       "    .dataframe tbody tr th:only-of-type {\n",
       "        vertical-align: middle;\n",
       "    }\n",
       "\n",
       "    .dataframe tbody tr th {\n",
       "        vertical-align: top;\n",
       "    }\n",
       "\n",
       "    .dataframe thead th {\n",
       "        text-align: right;\n",
       "    }\n",
       "</style>\n",
       "<table border=\"1\" class=\"dataframe\">\n",
       "  <thead>\n",
       "    <tr style=\"text-align: right;\">\n",
       "      <th></th>\n",
       "      <th>ArticleId</th>\n",
       "      <th>Text</th>\n",
       "      <th>Category</th>\n",
       "    </tr>\n",
       "  </thead>\n",
       "  <tbody>\n",
       "    <tr>\n",
       "      <th>0</th>\n",
       "      <td>1833</td>\n",
       "      <td>worldcom ex-boss launches defence lawyers defe...</td>\n",
       "      <td>business</td>\n",
       "    </tr>\n",
       "    <tr>\n",
       "      <th>1</th>\n",
       "      <td>154</td>\n",
       "      <td>german business confidence slides german busin...</td>\n",
       "      <td>business</td>\n",
       "    </tr>\n",
       "    <tr>\n",
       "      <th>2</th>\n",
       "      <td>1101</td>\n",
       "      <td>bbc poll indicates economic gloom citizens in ...</td>\n",
       "      <td>business</td>\n",
       "    </tr>\n",
       "    <tr>\n",
       "      <th>3</th>\n",
       "      <td>1976</td>\n",
       "      <td>lifestyle  governs mobile choice  faster  bett...</td>\n",
       "      <td>tech</td>\n",
       "    </tr>\n",
       "    <tr>\n",
       "      <th>4</th>\n",
       "      <td>917</td>\n",
       "      <td>enron bosses in $168m payout eighteen former e...</td>\n",
       "      <td>business</td>\n",
       "    </tr>\n",
       "  </tbody>\n",
       "</table>\n",
       "</div>"
      ],
      "text/plain": [
       "   ArticleId                                               Text  Category\n",
       "0       1833  worldcom ex-boss launches defence lawyers defe...  business\n",
       "1        154  german business confidence slides german busin...  business\n",
       "2       1101  bbc poll indicates economic gloom citizens in ...  business\n",
       "3       1976  lifestyle  governs mobile choice  faster  bett...      tech\n",
       "4        917  enron bosses in $168m payout eighteen former e...  business"
      ]
     },
     "execution_count": 6,
     "metadata": {},
     "output_type": "execute_result"
    }
   ],
   "source": [
    "bbc.head()"
   ]
  },
  {
   "cell_type": "code",
   "execution_count": 7,
   "id": "3758d1ff",
   "metadata": {},
   "outputs": [],
   "source": [
    "from sklearn.feature_extraction.text import TfidfVectorizer"
   ]
  },
  {
   "cell_type": "code",
   "execution_count": 8,
   "id": "e5f01229",
   "metadata": {},
   "outputs": [],
   "source": [
    "tfidf =TfidfVectorizer(max_df=0.95,min_df=2,stop_words='english')"
   ]
  },
  {
   "cell_type": "code",
   "execution_count": 9,
   "id": "d0ce49de",
   "metadata": {},
   "outputs": [],
   "source": [
    "dtm=tfidf.fit_transform(bbc['Text'])"
   ]
  },
  {
   "cell_type": "code",
   "execution_count": 10,
   "id": "515a6585",
   "metadata": {},
   "outputs": [
    {
     "data": {
      "text/plain": [
       "<1490x14066 sparse matrix of type '<class 'numpy.float64'>'\n",
       "\twith 203476 stored elements in Compressed Sparse Row format>"
      ]
     },
     "execution_count": 10,
     "metadata": {},
     "output_type": "execute_result"
    }
   ],
   "source": [
    "dtm"
   ]
  },
  {
   "cell_type": "code",
   "execution_count": 11,
   "id": "c9331bd9",
   "metadata": {},
   "outputs": [],
   "source": [
    "from sklearn.decomposition import NMF"
   ]
  },
  {
   "cell_type": "code",
   "execution_count": 12,
   "id": "5b1f4e51",
   "metadata": {},
   "outputs": [],
   "source": [
    "nmf_model=NMF(n_components=5,random_state=42)"
   ]
  },
  {
   "cell_type": "code",
   "execution_count": 13,
   "id": "4224aee9",
   "metadata": {},
   "outputs": [
    {
     "data": {
      "text/plain": [
       "NMF(alpha=0.0, beta_loss='frobenius', init=None, l1_ratio=0.0, max_iter=200,\n",
       "  n_components=5, random_state=42, shuffle=False, solver='cd', tol=0.0001,\n",
       "  verbose=0)"
      ]
     },
     "execution_count": 13,
     "metadata": {},
     "output_type": "execute_result"
    }
   ],
   "source": [
    "nmf_model.fit(dtm)"
   ]
  },
  {
   "cell_type": "code",
   "execution_count": 14,
   "id": "8b111932",
   "metadata": {},
   "outputs": [
    {
     "data": {
      "text/plain": [
       "14066"
      ]
     },
     "execution_count": 14,
     "metadata": {},
     "output_type": "execute_result"
    }
   ],
   "source": [
    "len(tfidf.get_feature_names())"
   ]
  },
  {
   "cell_type": "code",
   "execution_count": 27,
   "id": "093e0f15",
   "metadata": {},
   "outputs": [
    {
     "name": "stdout",
     "output_type": "stream",
     "text": [
      "THE TOP 15 WORDS FOR TOPIC #sport\n",
      "['world', 'match', 'chelsea', 'half', 'france', 'players', 'play', 'team', 'said', 'cup', 'ireland', 'wales', 'win', 'game', 'england']\n",
      "\n",
      "\n",
      "THE TOP 15 WORDS FOR TOPIC #politics\n",
      "['tories', 'tory', 'chancellor', 'tax', 'prime', 'howard', 'minister', 'government', 'said', 'party', 'brown', 'blair', 'election', 'labour', 'mr']\n",
      "\n",
      "\n",
      "THE TOP 15 WORDS FOR TOPIC #tech\n",
      "['service', 'use', 'net', 'software', 'broadband', 'microsoft', 'users', 'phones', 'technology', 'digital', 'phone', 'said', 'music', 'people', 'mobile']\n",
      "\n",
      "\n",
      "THE TOP 15 WORDS FOR TOPIC #entertainment\n",
      "['nominated', 'star', 'comedy', 'aviator', 'festival', 'films', 'won', 'director', 'oscar', 'actress', 'actor', 'award', 'awards', 'best', 'film']\n",
      "\n",
      "\n",
      "THE TOP 15 WORDS FOR TOPIC #business\n",
      "['rate', 'prices', 'rates', 'china', 'dollar', '2004', 'oil', 'market', 'bank', 'year', 'economic', 'sales', 'economy', 'said', 'growth']\n",
      "\n",
      "\n"
     ]
    }
   ],
   "source": [
    "for index,topic in enumerate(nmf_model.components_):\n",
    "    print(f'THE TOP 15 WORDS FOR TOPIC #{topic_names[index]}')\n",
    "    print([tfidf.get_feature_names()[i] for i in topic.argsort()[-15:]])\n",
    "    print('\\n')"
   ]
  },
  {
   "cell_type": "code",
   "execution_count": 26,
   "id": "6a3a88ee",
   "metadata": {},
   "outputs": [],
   "source": [
    "topic_names=[\"sport\",\"politics\",\"tech\",\"entertainment\",\"business\"]"
   ]
  },
  {
   "cell_type": "code",
   "execution_count": 18,
   "id": "9ecd3e1f",
   "metadata": {},
   "outputs": [
    {
     "data": {
      "text/plain": [
       "<1490x14066 sparse matrix of type '<class 'numpy.float64'>'\n",
       "\twith 203476 stored elements in Compressed Sparse Row format>"
      ]
     },
     "execution_count": 18,
     "metadata": {},
     "output_type": "execute_result"
    }
   ],
   "source": [
    "dtm"
   ]
  },
  {
   "cell_type": "code",
   "execution_count": 19,
   "id": "893f9097",
   "metadata": {},
   "outputs": [],
   "source": [
    "topic_results=nmf_model.transform(dtm)"
   ]
  },
  {
   "cell_type": "code",
   "execution_count": 20,
   "id": "3b70e48f",
   "metadata": {},
   "outputs": [
    {
     "data": {
      "text/plain": [
       "(1490, 5)"
      ]
     },
     "execution_count": 20,
     "metadata": {},
     "output_type": "execute_result"
    }
   ],
   "source": [
    "topic_results.shape"
   ]
  },
  {
   "cell_type": "code",
   "execution_count": 21,
   "id": "bad1c70e",
   "metadata": {},
   "outputs": [
    {
     "data": {
      "text/plain": [
       "array([0.00071379, 0.03940298, 0.00873215, 0.00357328, 0.04990868])"
      ]
     },
     "execution_count": 21,
     "metadata": {},
     "output_type": "execute_result"
    }
   ],
   "source": [
    "topic_results[0]"
   ]
  },
  {
   "cell_type": "code",
   "execution_count": 22,
   "id": "4e414c88",
   "metadata": {},
   "outputs": [
    {
     "data": {
      "text/plain": [
       "4"
      ]
     },
     "execution_count": 22,
     "metadata": {},
     "output_type": "execute_result"
    }
   ],
   "source": [
    "topic_results[0].argmax()"
   ]
  },
  {
   "cell_type": "code",
   "execution_count": 23,
   "id": "0759e1b3",
   "metadata": {},
   "outputs": [
    {
     "data": {
      "text/html": [
       "<div>\n",
       "<style scoped>\n",
       "    .dataframe tbody tr th:only-of-type {\n",
       "        vertical-align: middle;\n",
       "    }\n",
       "\n",
       "    .dataframe tbody tr th {\n",
       "        vertical-align: top;\n",
       "    }\n",
       "\n",
       "    .dataframe thead th {\n",
       "        text-align: right;\n",
       "    }\n",
       "</style>\n",
       "<table border=\"1\" class=\"dataframe\">\n",
       "  <thead>\n",
       "    <tr style=\"text-align: right;\">\n",
       "      <th></th>\n",
       "      <th>ArticleId</th>\n",
       "      <th>Text</th>\n",
       "      <th>Category</th>\n",
       "    </tr>\n",
       "  </thead>\n",
       "  <tbody>\n",
       "    <tr>\n",
       "      <th>0</th>\n",
       "      <td>1833</td>\n",
       "      <td>worldcom ex-boss launches defence lawyers defe...</td>\n",
       "      <td>business</td>\n",
       "    </tr>\n",
       "    <tr>\n",
       "      <th>1</th>\n",
       "      <td>154</td>\n",
       "      <td>german business confidence slides german busin...</td>\n",
       "      <td>business</td>\n",
       "    </tr>\n",
       "    <tr>\n",
       "      <th>2</th>\n",
       "      <td>1101</td>\n",
       "      <td>bbc poll indicates economic gloom citizens in ...</td>\n",
       "      <td>business</td>\n",
       "    </tr>\n",
       "    <tr>\n",
       "      <th>3</th>\n",
       "      <td>1976</td>\n",
       "      <td>lifestyle  governs mobile choice  faster  bett...</td>\n",
       "      <td>tech</td>\n",
       "    </tr>\n",
       "    <tr>\n",
       "      <th>4</th>\n",
       "      <td>917</td>\n",
       "      <td>enron bosses in $168m payout eighteen former e...</td>\n",
       "      <td>business</td>\n",
       "    </tr>\n",
       "  </tbody>\n",
       "</table>\n",
       "</div>"
      ],
      "text/plain": [
       "   ArticleId                                               Text  Category\n",
       "0       1833  worldcom ex-boss launches defence lawyers defe...  business\n",
       "1        154  german business confidence slides german busin...  business\n",
       "2       1101  bbc poll indicates economic gloom citizens in ...  business\n",
       "3       1976  lifestyle  governs mobile choice  faster  bett...      tech\n",
       "4        917  enron bosses in $168m payout eighteen former e...  business"
      ]
     },
     "execution_count": 23,
     "metadata": {},
     "output_type": "execute_result"
    }
   ],
   "source": [
    "bbc.head()"
   ]
  },
  {
   "cell_type": "code",
   "execution_count": 28,
   "id": "16ce2dd6",
   "metadata": {},
   "outputs": [],
   "source": [
    "bbc['predicted_category']=[topic_names[i] for i in topic_results.argmax(axis=1)]"
   ]
  },
  {
   "cell_type": "code",
   "execution_count": 29,
   "id": "fcec9c5d",
   "metadata": {},
   "outputs": [
    {
     "data": {
      "text/html": [
       "<div>\n",
       "<style scoped>\n",
       "    .dataframe tbody tr th:only-of-type {\n",
       "        vertical-align: middle;\n",
       "    }\n",
       "\n",
       "    .dataframe tbody tr th {\n",
       "        vertical-align: top;\n",
       "    }\n",
       "\n",
       "    .dataframe thead th {\n",
       "        text-align: right;\n",
       "    }\n",
       "</style>\n",
       "<table border=\"1\" class=\"dataframe\">\n",
       "  <thead>\n",
       "    <tr style=\"text-align: right;\">\n",
       "      <th></th>\n",
       "      <th>ArticleId</th>\n",
       "      <th>Text</th>\n",
       "      <th>Category</th>\n",
       "      <th>predicted_category</th>\n",
       "    </tr>\n",
       "  </thead>\n",
       "  <tbody>\n",
       "    <tr>\n",
       "      <th>0</th>\n",
       "      <td>1833</td>\n",
       "      <td>worldcom ex-boss launches defence lawyers defe...</td>\n",
       "      <td>business</td>\n",
       "      <td>business</td>\n",
       "    </tr>\n",
       "    <tr>\n",
       "      <th>1</th>\n",
       "      <td>154</td>\n",
       "      <td>german business confidence slides german busin...</td>\n",
       "      <td>business</td>\n",
       "      <td>business</td>\n",
       "    </tr>\n",
       "    <tr>\n",
       "      <th>2</th>\n",
       "      <td>1101</td>\n",
       "      <td>bbc poll indicates economic gloom citizens in ...</td>\n",
       "      <td>business</td>\n",
       "      <td>business</td>\n",
       "    </tr>\n",
       "    <tr>\n",
       "      <th>3</th>\n",
       "      <td>1976</td>\n",
       "      <td>lifestyle  governs mobile choice  faster  bett...</td>\n",
       "      <td>tech</td>\n",
       "      <td>tech</td>\n",
       "    </tr>\n",
       "    <tr>\n",
       "      <th>4</th>\n",
       "      <td>917</td>\n",
       "      <td>enron bosses in $168m payout eighteen former e...</td>\n",
       "      <td>business</td>\n",
       "      <td>business</td>\n",
       "    </tr>\n",
       "  </tbody>\n",
       "</table>\n",
       "</div>"
      ],
      "text/plain": [
       "   ArticleId                                               Text  Category  \\\n",
       "0       1833  worldcom ex-boss launches defence lawyers defe...  business   \n",
       "1        154  german business confidence slides german busin...  business   \n",
       "2       1101  bbc poll indicates economic gloom citizens in ...  business   \n",
       "3       1976  lifestyle  governs mobile choice  faster  bett...      tech   \n",
       "4        917  enron bosses in $168m payout eighteen former e...  business   \n",
       "\n",
       "  predicted_category  \n",
       "0           business  \n",
       "1           business  \n",
       "2           business  \n",
       "3               tech  \n",
       "4           business  "
      ]
     },
     "execution_count": 29,
     "metadata": {},
     "output_type": "execute_result"
    }
   ],
   "source": [
    "bbc.head()"
   ]
  },
  {
   "cell_type": "code",
   "execution_count": 30,
   "id": "cf81046f",
   "metadata": {},
   "outputs": [],
   "source": [
    "from sklearn.metrics import accuracy_score,confusion_matrix,classification_report"
   ]
  },
  {
   "cell_type": "code",
   "execution_count": 31,
   "id": "5d5583b0",
   "metadata": {},
   "outputs": [
    {
     "data": {
      "text/plain": [
       "0.9194630872483222"
      ]
     },
     "execution_count": 31,
     "metadata": {},
     "output_type": "execute_result"
    }
   ],
   "source": [
    "accuracy_score(bbc['predicted_category'],bbc['Category'])"
   ]
  },
  {
   "cell_type": "code",
   "execution_count": 35,
   "id": "3d9fdf84",
   "metadata": {},
   "outputs": [
    {
     "name": "stdout",
     "output_type": "stream",
     "text": [
      "[[314   5  21   1   3]\n",
      " [  1 220   0   2   4]\n",
      " [ 12   6 244   0   1]\n",
      " [  0   4   2 343   4]\n",
      " [  9  38   7   0 249]]\n"
     ]
    }
   ],
   "source": [
    "print(confusion_matrix(bbc['predicted_category'],bbc['Category']))"
   ]
  },
  {
   "cell_type": "code",
   "execution_count": 37,
   "id": "34a39230",
   "metadata": {},
   "outputs": [
    {
     "name": "stdout",
     "output_type": "stream",
     "text": [
      "               precision    recall  f1-score   support\n",
      "\n",
      "     business       0.93      0.91      0.92       344\n",
      "entertainment       0.81      0.97      0.88       227\n",
      "     politics       0.89      0.93      0.91       263\n",
      "        sport       0.99      0.97      0.98       353\n",
      "         tech       0.95      0.82      0.88       303\n",
      "\n",
      "    micro avg       0.92      0.92      0.92      1490\n",
      "    macro avg       0.92      0.92      0.92      1490\n",
      " weighted avg       0.92      0.92      0.92      1490\n",
      "\n"
     ]
    }
   ],
   "source": [
    "print(classification_report(bbc['predicted_category'],bbc['Category']))"
   ]
  },
  {
   "cell_type": "code",
   "execution_count": 73,
   "id": "00fde9d3",
   "metadata": {},
   "outputs": [
    {
     "name": "stdout",
     "output_type": "stream",
     "text": [
      "The top 15 words for topic #sport:\n",
      "['coach', 'ireland', 'injury', 'said', 'club', 'team', 'cup', 'players', 'match', 'wales', 'play', 'win', 'rugby', 'england', 'game']\n",
      "\n",
      "\n",
      "The top 15 words for topic #politics:\n",
      "['tories', 'tax', 'prime', 'tory', 'minister', 'government', 'chancellor', 'howard', 'party', 'said', 'brown', 'election', 'blair', 'labour', 'mr']\n",
      "\n",
      "\n",
      "The top 15 words for topic #business:\n",
      "['company', 'yukos', 'rate', 'market', 'china', '2004', 'oil', 'economic', 'sales', 'prices', 'year', 'bank', 'said', 'growth', 'economy']\n",
      "\n",
      "\n",
      "The top 15 words for topic #tech:\n",
      "['video', 'apple', 'tv', 'net', 'computer', 'phone', 'games', 'broadband', 'users', 'said', 'digital', 'technology', 'mobile', 'music', 'people']\n",
      "\n",
      "\n",
      "The top 15 words for topic #entertainment:\n",
      "['album', 'comedy', 'star', 'music', 'won', 'actress', 'films', 'year', 'prize', 'oscar', 'festival', 'awards', 'award', 'best', 'film']\n",
      "\n",
      "\n"
     ]
    },
    {
     "data": {
      "text/html": [
       "<div>\n",
       "<style scoped>\n",
       "    .dataframe tbody tr th:only-of-type {\n",
       "        vertical-align: middle;\n",
       "    }\n",
       "\n",
       "    .dataframe tbody tr th {\n",
       "        vertical-align: top;\n",
       "    }\n",
       "\n",
       "    .dataframe thead th {\n",
       "        text-align: right;\n",
       "    }\n",
       "</style>\n",
       "<table border=\"1\" class=\"dataframe\">\n",
       "  <thead>\n",
       "    <tr style=\"text-align: right;\">\n",
       "      <th></th>\n",
       "      <th>ArticleId</th>\n",
       "      <th>Text</th>\n",
       "      <th>predicted_category</th>\n",
       "    </tr>\n",
       "  </thead>\n",
       "  <tbody>\n",
       "    <tr>\n",
       "      <th>0</th>\n",
       "      <td>1018</td>\n",
       "      <td>qpr keeper day heads for preston queens park r...</td>\n",
       "      <td>sport</td>\n",
       "    </tr>\n",
       "    <tr>\n",
       "      <th>1</th>\n",
       "      <td>1319</td>\n",
       "      <td>software watching while you work software that...</td>\n",
       "      <td>tech</td>\n",
       "    </tr>\n",
       "    <tr>\n",
       "      <th>2</th>\n",
       "      <td>1138</td>\n",
       "      <td>d arcy injury adds to ireland woe gordon d arc...</td>\n",
       "      <td>sport</td>\n",
       "    </tr>\n",
       "    <tr>\n",
       "      <th>3</th>\n",
       "      <td>459</td>\n",
       "      <td>india s reliance family feud heats up the ongo...</td>\n",
       "      <td>business</td>\n",
       "    </tr>\n",
       "    <tr>\n",
       "      <th>4</th>\n",
       "      <td>1020</td>\n",
       "      <td>boro suffer morrison injury blow middlesbrough...</td>\n",
       "      <td>sport</td>\n",
       "    </tr>\n",
       "  </tbody>\n",
       "</table>\n",
       "</div>"
      ],
      "text/plain": [
       "   ArticleId                                               Text  \\\n",
       "0       1018  qpr keeper day heads for preston queens park r...   \n",
       "1       1319  software watching while you work software that...   \n",
       "2       1138  d arcy injury adds to ireland woe gordon d arc...   \n",
       "3        459  india s reliance family feud heats up the ongo...   \n",
       "4       1020  boro suffer morrison injury blow middlesbrough...   \n",
       "\n",
       "  predicted_category  \n",
       "0              sport  \n",
       "1               tech  \n",
       "2              sport  \n",
       "3           business  \n",
       "4              sport  "
      ]
     },
     "execution_count": 73,
     "metadata": {},
     "output_type": "execute_result"
    }
   ],
   "source": [
    "# General Purpose code \n",
    "\n",
    "import pandas as pd\n",
    "from sklearn.feature_extraction.text import TfidfVectorizer\n",
    "from sklearn.decomposition import NMF\n",
    "from sklearn.metrics import accuracy_score, confusion_matrix, classification_report\n",
    "\n",
    "def topic_categorization(data, text_column, topic_names, max_df=0.95, min_df=2, stop_words='english', n_components=5, random_state=42):\n",
    "   \n",
    "    # Initialize TF-IDF vectorizer\n",
    "    tfidf = TfidfVectorizer(max_df=max_df, min_df=min_df, stop_words=stop_words)\n",
    "    \n",
    "    # Fit and transform the document-term matrix\n",
    "    dtm = tfidf.fit_transform(data[text_column])\n",
    "    \n",
    "    # Initialize NMF model\n",
    "    nmf_model = NMF(n_components=n_components, random_state=random_state)\n",
    "    \n",
    "    # Fit NMF model\n",
    "    nmf_model.fit(dtm)\n",
    "    \n",
    "    # Extract top words for each topic\n",
    "    for index, topic in enumerate(nmf_model.components_):\n",
    "        print(f'The top 15 words for topic #{topic_names[index]}:')\n",
    "        print([tfidf.get_feature_names()[i] for i in topic.argsort()[-15:]])\n",
    "        print('\\n')\n",
    "    \n",
    "    # Perform topic categorization\n",
    "    topic_results = nmf_model.transform(dtm)\n",
    "    \n",
    "    # Assign predicted categories to the data\n",
    "    bbct['predicted_category'] = [topic_names[i] for i in topic_results.argmax(axis=1)]\n",
    " \n",
    " # Load the data\n",
    "bbct = pd.read_csv(\"./BBC News Test.csv\")\n",
    "\n",
    "# Define topic names\n",
    "topic_names = [\"sport\", \"politics\", \"business\", \"tech\", \"entertainment\"]\n",
    "\n",
    "# Perform topic categorization\n",
    "topic_categorization(bbc, 'Text', topic_names)\n",
    "\n",
    "#print the newly formatted table\n",
    "bbct.head()"
   ]
  },
  {
   "cell_type": "code",
   "execution_count": null,
   "id": "d4c61806",
   "metadata": {},
   "outputs": [],
   "source": []
  }
 ],
 "metadata": {
  "kernelspec": {
   "display_name": "Python 3 (ipykernel)",
   "language": "python",
   "name": "python3"
  },
  "language_info": {
   "codemirror_mode": {
    "name": "ipython",
    "version": 3
   },
   "file_extension": ".py",
   "mimetype": "text/x-python",
   "name": "python",
   "nbconvert_exporter": "python",
   "pygments_lexer": "ipython3",
   "version": "3.7.16"
  }
 },
 "nbformat": 4,
 "nbformat_minor": 5
}
